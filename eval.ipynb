{
 "cells": [
  {
   "cell_type": "code",
   "execution_count": 1,
   "metadata": {},
   "outputs": [
    {
     "name": "stdout",
     "output_type": "stream",
     "text": [
      "Jupyter environment detected. Enabling Open3D WebVisualizer.\n",
      "[Open3D INFO] WebRTC GUI backend enabled.\n",
      "[Open3D INFO] WebRTCWindowSystem: HTTP handshake server disabled.\n"
     ]
    },
    {
     "name": "stderr",
     "output_type": "stream",
     "text": [
      "c:\\Users\\azhenis4\\AppData\\Local\\anaconda3\\envs\\fyp_env\\lib\\site-packages\\torchvision\\io\\image.py:13: UserWarning: Failed to load image Python extension: \n",
      "  warn(f\"Failed to load image Python extension: {e}\")\n"
     ]
    }
   ],
   "source": [
    "import numpy as np\n",
    "from IO import IO\n",
    "from PC_denoiser import PC_denoiser\n",
    "from PointFilter.Customer_Module.chamfer_distance.dist_chamfer import chamferDist\n",
    "import torch\n",
    "import os\n",
    "import time"
   ]
  },
  {
   "cell_type": "code",
   "execution_count": 2,
   "metadata": {},
   "outputs": [],
   "source": [
    "from tqdm import tqdm\n",
    "from functools import partialmethod\n",
    "\n",
    "tqdm.__init__ = partialmethod(tqdm.__init__, disable=True)"
   ]
  },
  {
   "cell_type": "code",
   "execution_count": 3,
   "metadata": {},
   "outputs": [],
   "source": [
    "cloud_pairs = [\n",
    "    (\"Tetrahedron.npy\", \"Tetrahedron_0.005.npy\"),\n",
    "    (\"fandisk_100K.npy\", \"fandisk_100K_0.005.npy\"), \n",
    "    (\"cube_uniform_100K.npy\", \"cube_uniform_100K_0.005.npy\"),\n",
    "    (\"boxunion2_100K.npy\", \"boxunion2_100K_0.005.npy\")\n",
    "]"
   ]
  },
  {
   "cell_type": "code",
   "execution_count": 4,
   "metadata": {},
   "outputs": [
    {
     "data": {
      "application/vnd.jupyter.widget-view+json": {
       "model_id": "a9ade69a627c4e0892e84bdfec7aa525",
       "version_major": 2,
       "version_minor": 0
      },
      "text/plain": [
       "Denoise Clusters:   0%|          | 0/4 [00:00<?, ?it/s]"
      ]
     },
     "metadata": {},
     "output_type": "display_data"
    },
    {
     "data": {
      "application/vnd.jupyter.widget-view+json": {
       "model_id": "c8a3ea4499494aa080fbcf13ea06396c",
       "version_major": 2,
       "version_minor": 0
      },
      "text/plain": [
       "Denoise Clusters:   0%|          | 0/4 [00:00<?, ?it/s]"
      ]
     },
     "metadata": {},
     "output_type": "display_data"
    },
    {
     "data": {
      "application/vnd.jupyter.widget-view+json": {
       "model_id": "aab8999d2e3743b6a78bfa424ccd1798",
       "version_major": 2,
       "version_minor": 0
      },
      "text/plain": [
       "Denoise Clusters:   0%|          | 0/4 [00:00<?, ?it/s]"
      ]
     },
     "metadata": {},
     "output_type": "display_data"
    },
    {
     "data": {
      "application/vnd.jupyter.widget-view+json": {
       "model_id": "e53c31bc19054b18895cc7f062aefa38",
       "version_major": 2,
       "version_minor": 0
      },
      "text/plain": [
       "Denoise Clusters:   0%|          | 0/4 [00:00<?, ?it/s]"
      ]
     },
     "metadata": {},
     "output_type": "display_data"
    },
    {
     "data": {
      "text/plain": [
       "{'Tetrahedron.npy': {'denoise_dmr': {'time': 17.290677547454834,\n",
       "   'loss': 1.4142421605356503e-05},\n",
       "  'denoise_mls': {'time': 0.9985833168029785, 'loss': 2.0020983356516808e-05},\n",
       "  'denoise_pointcleannet': {'time': 114.04175543785095,\n",
       "   'loss': 1.3582616702478845e-05},\n",
       "  'denoise_pointfilter': {'time': 125.81558585166931,\n",
       "   'loss': 7.705009920755401e-06},\n",
       "  'denoise_score_based': {'time': 37.84608197212219,\n",
       "   'loss': 9.14813790586777e-06},\n",
       "  'denoise_voxel_grid': {'time': 0.30309319496154785,\n",
       "   'loss': 3.7261892430251464e-05}},\n",
       " 'fandisk_100K.npy': {'denoise_dmr': {'time': 19.4921658039093,\n",
       "   'loss': 1.3872664567315951e-05},\n",
       "  'denoise_mls': {'time': 1.068164348602295, 'loss': 2.5100067432504147e-05},\n",
       "  'denoise_pointcleannet': {'time': 114.50656914710999,\n",
       "   'loss': 1.2520291420514695e-05},\n",
       "  'denoise_pointfilter': {'time': 128.14853692054749,\n",
       "   'loss': 7.302269295905717e-06},\n",
       "  'denoise_score_based': {'time': 38.202563762664795,\n",
       "   'loss': 9.421052709512878e-06},\n",
       "  'denoise_voxel_grid': {'time': 0.31142568588256836,\n",
       "   'loss': 3.595967064029537e-05}},\n",
       " 'cube_uniform_100K.npy': {'denoise_dmr': {'time': 17.665963172912598,\n",
       "   'loss': 1.944146424648352e-05},\n",
       "  'denoise_mls': {'time': 0.7408425807952881, 'loss': 1.561218232382089e-05},\n",
       "  'denoise_pointcleannet': {'time': 108.27657890319824,\n",
       "   'loss': 1.834263457567431e-05},\n",
       "  'denoise_pointfilter': {'time': 116.87777352333069,\n",
       "   'loss': 1.2609683835762553e-05},\n",
       "  'denoise_score_based': {'time': 38.72879362106323,\n",
       "   'loss': 1.3689694242202677e-05},\n",
       "  'denoise_voxel_grid': {'time': 0.30867528915405273,\n",
       "   'loss': 4.4080337829655036e-05}},\n",
       " 'boxunion2_100K.npy': {'denoise_dmr': {'time': 17.46060013771057,\n",
       "   'loss': 1.627549499971792e-05},\n",
       "  'denoise_mls': {'time': 1.0271365642547607, 'loss': 2.2858617739984766e-05},\n",
       "  'denoise_pointcleannet': {'time': 113.16679215431213,\n",
       "   'loss': 1.4436063793255016e-05},\n",
       "  'denoise_pointfilter': {'time': 126.32725119590759,\n",
       "   'loss': 9.157960448646918e-06},\n",
       "  'denoise_score_based': {'time': 38.65904927253723,\n",
       "   'loss': 1.1219284715480171e-05},\n",
       "  'denoise_voxel_grid': {'time': 0.3106400966644287,\n",
       "   'loss': 3.769226168515161e-05}}}"
      ]
     },
     "execution_count": 4,
     "metadata": {},
     "output_type": "execute_result"
    }
   ],
   "source": [
    "results = {}\n",
    "for gt_path, noisy_path in cloud_pairs:\n",
    "    results[gt_path] = {}\n",
    "    gt = IO.get_arr_from(os.path.join(\"data\", gt_path))\n",
    "    noisy = IO.get_arr_from(os.path.join(\"data\", noisy_path))\n",
    "    for name in dir(PC_denoiser):\n",
    "        # Get the attribute\n",
    "        if name.startswith(\"denoise\"):\n",
    "            method = getattr(PC_denoiser, name)\n",
    "\n",
    "            start_time = time.time()\n",
    "            denoised = method(noisy)\n",
    "            execution_time = time.time() - start_time\n",
    "\n",
    "            loss = PC_denoiser.calculate_chamfer_distance_loss(gt, denoised)\n",
    "\n",
    "            results[gt_path][name] = {\"time\": execution_time, \"loss\": loss}\n",
    "\n",
    "            path = os.path.join(\"images\", f\"{gt_path[:-4]}_{name}.png\")\n",
    "            IO.save_visualization(cloud=denoised, save_path=path)\n",
    "results"
   ]
  },
  {
   "cell_type": "code",
   "execution_count": 7,
   "metadata": {},
   "outputs": [],
   "source": [
    "for gt_path, noisy_path in cloud_pairs:\n",
    "    results[gt_path] = {}\n",
    "    gt = IO.get_arr_from(os.path.join(\"data\", gt_path))\n",
    "    noisy = IO.get_arr_from(os.path.join(\"data\", noisy_path))\n",
    "    path = os.path.join(\"images\", f\"{gt_path[:-4]}_ground_truth.png\")\n",
    "    IO.save_visualization(cloud=gt, save_path=path)\n",
    "\n",
    "    path = os.path.join(\"images\", f\"{gt_path[:-4]}_noisy.png\")\n",
    "    IO.save_visualization(cloud=noisy, save_path=path)"
   ]
  },
  {
   "cell_type": "markdown",
   "metadata": {},
   "source": [
    "# Example"
   ]
  },
  {
   "cell_type": "code",
   "execution_count": 14,
   "metadata": {},
   "outputs": [
    {
     "data": {
      "text/plain": [
       "array([[-0.14818473,  0.01119605, -0.16039269],\n",
       "       [-0.23029459,  0.19200414, -0.13042861],\n",
       "       [ 0.18336986,  0.12867783,  0.03038543],\n",
       "       ...,\n",
       "       [-0.03029756,  0.09184797, -0.22520615],\n",
       "       [-0.08969136,  0.22849035, -0.1309408 ],\n",
       "       [-0.26883158,  0.01869855, -0.05352968]], dtype=float32)"
      ]
     },
     "execution_count": 14,
     "metadata": {},
     "output_type": "execute_result"
    }
   ],
   "source": [
    "path = os.path.join(\"data\", \"Tetrahedron_0.005.npy\")\n",
    "pcl = IO.get_arr_from(path)\n",
    "pcl"
   ]
  },
  {
   "cell_type": "code",
   "execution_count": 15,
   "metadata": {},
   "outputs": [],
   "source": [
    "IO.visualize_arr(pcl)"
   ]
  },
  {
   "cell_type": "code",
   "execution_count": 18,
   "metadata": {},
   "outputs": [
    {
     "data": {
      "application/vnd.jupyter.widget-view+json": {
       "model_id": "daad5db6930a4ef68847367fbd882e59",
       "version_major": 2,
       "version_minor": 0
      },
      "text/plain": [
       "Denoise Clusters:   0%|          | 0/4 [00:00<?, ?it/s]"
      ]
     },
     "metadata": {},
     "output_type": "display_data"
    }
   ],
   "source": [
    "denoised = PC_denoiser.denoise_score_based(pcl)"
   ]
  },
  {
   "cell_type": "code",
   "execution_count": 19,
   "metadata": {},
   "outputs": [],
   "source": [
    "IO.visualize_arr(denoised)"
   ]
  },
  {
   "cell_type": "code",
   "execution_count": null,
   "metadata": {},
   "outputs": [],
   "source": []
  }
 ],
 "metadata": {
  "kernelspec": {
   "display_name": "fyp_env",
   "language": "python",
   "name": "python3"
  },
  "language_info": {
   "codemirror_mode": {
    "name": "ipython",
    "version": 3
   },
   "file_extension": ".py",
   "mimetype": "text/x-python",
   "name": "python",
   "nbconvert_exporter": "python",
   "pygments_lexer": "ipython3",
   "version": "3.7.1"
  },
  "orig_nbformat": 4
 },
 "nbformat": 4,
 "nbformat_minor": 2
}
