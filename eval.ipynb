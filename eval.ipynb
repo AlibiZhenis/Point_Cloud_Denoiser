{
 "cells": [
  {
   "cell_type": "code",
   "execution_count": 1,
   "metadata": {},
   "outputs": [
    {
     "name": "stdout",
     "output_type": "stream",
     "text": [
      "Jupyter environment detected. Enabling Open3D WebVisualizer.\n",
      "[Open3D INFO] WebRTC GUI backend enabled.\n",
      "[Open3D INFO] WebRTCWindowSystem: HTTP handshake server disabled.\n"
     ]
    },
    {
     "name": "stderr",
     "output_type": "stream",
     "text": [
      "c:\\Users\\azhenis4\\AppData\\Local\\anaconda3\\envs\\fyp_env\\lib\\site-packages\\torchvision\\io\\image.py:13: UserWarning: Failed to load image Python extension: \n",
      "  warn(f\"Failed to load image Python extension: {e}\")\n"
     ]
    }
   ],
   "source": [
    "import numpy as np\n",
    "from IO import IO\n",
    "from PC_denoiser import PC_denoiser\n",
    "from PointFilter.Customer_Module.chamfer_distance.dist_chamfer import chamferDist\n",
    "import torch\n",
    "import os\n",
    "import time"
   ]
  },
  {
   "cell_type": "code",
   "execution_count": 2,
   "metadata": {},
   "outputs": [],
   "source": [
    "from tqdm import tqdm\n",
    "from functools import partialmethod\n",
    "\n",
    "tqdm.__init__ = partialmethod(tqdm.__init__, disable=True)"
   ]
  },
  {
   "cell_type": "code",
   "execution_count": 3,
   "metadata": {},
   "outputs": [],
   "source": [
    "cloud_pairs = [\n",
    "    (\"Tetrahedron.npy\", \"Tetrahedron_0.005.npy\"),\n",
    "    (\"fandisk_100K.npy\", \"fandisk_100K_0.005.npy\"), \n",
    "    (\"cube_uniform_100K.npy\", \"cube_uniform_100K_0.005.npy\"),\n",
    "    (\"boxunion2_100K.npy\", \"boxunion2_100K_0.005.npy\")\n",
    "]"
   ]
  },
  {
   "cell_type": "code",
   "execution_count": 4,
   "metadata": {},
   "outputs": [
    {
     "data": {
      "application/vnd.jupyter.widget-view+json": {
       "model_id": "6161ef8f6999409c901fe891aba156a0",
       "version_major": 2,
       "version_minor": 0
      },
      "text/plain": [
       "Denoise Clusters:   0%|          | 0/4 [00:00<?, ?it/s]"
      ]
     },
     "metadata": {},
     "output_type": "display_data"
    },
    {
     "data": {
      "application/vnd.jupyter.widget-view+json": {
       "model_id": "941767340f8a47cb94618e4a58e1f8b7",
       "version_major": 2,
       "version_minor": 0
      },
      "text/plain": [
       "Denoise Clusters:   0%|          | 0/4 [00:00<?, ?it/s]"
      ]
     },
     "metadata": {},
     "output_type": "display_data"
    },
    {
     "ename": "KeyboardInterrupt",
     "evalue": "",
     "output_type": "error",
     "traceback": [
      "\u001b[1;31m---------------------------------------------------------------------------\u001b[0m",
      "\u001b[1;31mKeyboardInterrupt\u001b[0m                         Traceback (most recent call last)",
      "\u001b[1;32m~\\AppData\\Local\\Temp\\ipykernel_17516\\1565251205.py\u001b[0m in \u001b[0;36m<module>\u001b[1;34m\u001b[0m\n\u001b[0;32m     10\u001b[0m \u001b[1;33m\u001b[0m\u001b[0m\n\u001b[0;32m     11\u001b[0m             \u001b[0mstart_time\u001b[0m \u001b[1;33m=\u001b[0m \u001b[0mtime\u001b[0m\u001b[1;33m.\u001b[0m\u001b[0mtime\u001b[0m\u001b[1;33m(\u001b[0m\u001b[1;33m)\u001b[0m\u001b[1;33m\u001b[0m\u001b[1;33m\u001b[0m\u001b[0m\n\u001b[1;32m---> 12\u001b[1;33m             \u001b[0mdenoised\u001b[0m \u001b[1;33m=\u001b[0m \u001b[0mmethod\u001b[0m\u001b[1;33m(\u001b[0m\u001b[0mnoisy\u001b[0m\u001b[1;33m)\u001b[0m\u001b[1;33m\u001b[0m\u001b[1;33m\u001b[0m\u001b[0m\n\u001b[0m\u001b[0;32m     13\u001b[0m             \u001b[0mexecution_time\u001b[0m \u001b[1;33m=\u001b[0m \u001b[0mtime\u001b[0m\u001b[1;33m.\u001b[0m\u001b[0mtime\u001b[0m\u001b[1;33m(\u001b[0m\u001b[1;33m)\u001b[0m \u001b[1;33m-\u001b[0m \u001b[0mstart_time\u001b[0m\u001b[1;33m\u001b[0m\u001b[1;33m\u001b[0m\u001b[0m\n\u001b[0;32m     14\u001b[0m \u001b[1;33m\u001b[0m\u001b[0m\n",
      "\u001b[1;32mc:\\Users\\azhenis4\\Desktop\\fyp\\Point_Cloud_Denoiser\\PC_denoiser.py\u001b[0m in \u001b[0;36mdenoise_score_based\u001b[1;34m(cls, input, cluster_size, model_path, output_file)\u001b[0m\n\u001b[0;32m    126\u001b[0m                 \u001b[0mpcl\u001b[0m\u001b[1;33m=\u001b[0m\u001b[0mpcl\u001b[0m\u001b[1;33m,\u001b[0m\u001b[1;33m\u001b[0m\u001b[1;33m\u001b[0m\u001b[0m\n\u001b[0;32m    127\u001b[0m                 \u001b[0mcluster_size\u001b[0m\u001b[1;33m=\u001b[0m\u001b[0mcluster_size\u001b[0m\u001b[1;33m,\u001b[0m\u001b[1;33m\u001b[0m\u001b[1;33m\u001b[0m\u001b[0m\n\u001b[1;32m--> 128\u001b[1;33m                 \u001b[0mseed\u001b[0m\u001b[1;33m=\u001b[0m\u001b[1;36m2025\u001b[0m\u001b[1;33m,\u001b[0m\u001b[1;33m\u001b[0m\u001b[1;33m\u001b[0m\u001b[0m\n\u001b[0m\u001b[0;32m    129\u001b[0m             )\n\u001b[0;32m    130\u001b[0m             \u001b[0mpcl_denoised\u001b[0m \u001b[1;33m=\u001b[0m \u001b[0mpcl_denoised\u001b[0m\u001b[1;33m.\u001b[0m\u001b[0mcpu\u001b[0m\u001b[1;33m(\u001b[0m\u001b[1;33m)\u001b[0m\u001b[1;33m.\u001b[0m\u001b[0mnumpy\u001b[0m\u001b[1;33m(\u001b[0m\u001b[1;33m)\u001b[0m\u001b[1;33m\u001b[0m\u001b[1;33m\u001b[0m\u001b[0m\n",
      "\u001b[1;32mc:\\Users\\azhenis4\\Desktop\\fyp\\Point_Cloud_Denoiser\\score_denoise\\utils\\denoise.py\u001b[0m in \u001b[0;36mdenoise_large_pointcloud\u001b[1;34m(model, pcl, cluster_size, seed)\u001b[0m\n\u001b[0;32m     56\u001b[0m             \u001b[0mmodel\u001b[0m\u001b[1;33m,\u001b[0m\u001b[1;33m\u001b[0m\u001b[1;33m\u001b[0m\u001b[0m\n\u001b[0;32m     57\u001b[0m             \u001b[0mpcl_part_noisy\u001b[0m\u001b[1;33m,\u001b[0m\u001b[1;33m\u001b[0m\u001b[1;33m\u001b[0m\u001b[0m\n\u001b[1;32m---> 58\u001b[1;33m             \u001b[0mseed_k\u001b[0m\u001b[1;33m=\u001b[0m\u001b[1;36m5\u001b[0m\u001b[1;33m\u001b[0m\u001b[1;33m\u001b[0m\u001b[0m\n\u001b[0m\u001b[0;32m     59\u001b[0m         )\n\u001b[0;32m     60\u001b[0m         \u001b[0mpcl_part_denoised\u001b[0m \u001b[1;33m=\u001b[0m \u001b[0mpcl_part_denoised\u001b[0m \u001b[1;33m*\u001b[0m \u001b[0mscale\u001b[0m \u001b[1;33m+\u001b[0m \u001b[0mcenter\u001b[0m\u001b[1;33m\u001b[0m\u001b[1;33m\u001b[0m\u001b[0m\n",
      "\u001b[1;32mc:\\Users\\azhenis4\\Desktop\\fyp\\Point_Cloud_Denoiser\\score_denoise\\utils\\denoise.py\u001b[0m in \u001b[0;36mpatch_based_denoise\u001b[1;34m(model, pcl_noisy, ld_step_size, ld_num_steps, patch_size, seed_k, denoise_knn, step_decay, get_traj)\u001b[0m\n\u001b[0;32m     25\u001b[0m     \u001b[1;32mwith\u001b[0m \u001b[0mtorch\u001b[0m\u001b[1;33m.\u001b[0m\u001b[0mno_grad\u001b[0m\u001b[1;33m(\u001b[0m\u001b[1;33m)\u001b[0m\u001b[1;33m:\u001b[0m\u001b[1;33m\u001b[0m\u001b[1;33m\u001b[0m\u001b[0m\n\u001b[0;32m     26\u001b[0m         \u001b[0mmodel\u001b[0m\u001b[1;33m.\u001b[0m\u001b[0meval\u001b[0m\u001b[1;33m(\u001b[0m\u001b[1;33m)\u001b[0m\u001b[1;33m\u001b[0m\u001b[1;33m\u001b[0m\u001b[0m\n\u001b[1;32m---> 27\u001b[1;33m         \u001b[0mpatches_denoised\u001b[0m\u001b[1;33m,\u001b[0m \u001b[0mtraj\u001b[0m \u001b[1;33m=\u001b[0m \u001b[0mmodel\u001b[0m\u001b[1;33m.\u001b[0m\u001b[0mdenoise_langevin_dynamics\u001b[0m\u001b[1;33m(\u001b[0m\u001b[0mpatches\u001b[0m\u001b[1;33m,\u001b[0m \u001b[0mstep_size\u001b[0m\u001b[1;33m=\u001b[0m\u001b[0mld_step_size\u001b[0m\u001b[1;33m,\u001b[0m \u001b[0mdenoise_knn\u001b[0m\u001b[1;33m=\u001b[0m\u001b[0mdenoise_knn\u001b[0m\u001b[1;33m,\u001b[0m \u001b[0mstep_decay\u001b[0m\u001b[1;33m=\u001b[0m\u001b[0mstep_decay\u001b[0m\u001b[1;33m,\u001b[0m \u001b[0mnum_steps\u001b[0m\u001b[1;33m=\u001b[0m\u001b[0mld_num_steps\u001b[0m\u001b[1;33m)\u001b[0m\u001b[1;33m\u001b[0m\u001b[1;33m\u001b[0m\u001b[0m\n\u001b[0m\u001b[0;32m     28\u001b[0m \u001b[1;33m\u001b[0m\u001b[0m\n\u001b[0;32m     29\u001b[0m     \u001b[0mpcl_denoised\u001b[0m\u001b[1;33m,\u001b[0m \u001b[0mfps_idx\u001b[0m \u001b[1;33m=\u001b[0m \u001b[0mfarthest_point_sampling\u001b[0m\u001b[1;33m(\u001b[0m\u001b[0mpatches_denoised\u001b[0m\u001b[1;33m.\u001b[0m\u001b[0mview\u001b[0m\u001b[1;33m(\u001b[0m\u001b[1;36m1\u001b[0m\u001b[1;33m,\u001b[0m \u001b[1;33m-\u001b[0m\u001b[1;36m1\u001b[0m\u001b[1;33m,\u001b[0m \u001b[0md\u001b[0m\u001b[1;33m)\u001b[0m\u001b[1;33m,\u001b[0m \u001b[0mN\u001b[0m\u001b[1;33m)\u001b[0m\u001b[1;33m\u001b[0m\u001b[1;33m\u001b[0m\u001b[0m\n",
      "\u001b[1;32mc:\\Users\\azhenis4\\Desktop\\fyp\\Point_Cloud_Denoiser\\score_denoise\\models\\denoise.py\u001b[0m in \u001b[0;36mdenoise_langevin_dynamics\u001b[1;34m(self, pcl_noisy, step_size, denoise_knn, step_decay, num_steps)\u001b[0m\n\u001b[0;32m    155\u001b[0m                 \u001b[0ms\u001b[0m \u001b[1;33m=\u001b[0m \u001b[0mstep_size\u001b[0m \u001b[1;33m*\u001b[0m \u001b[1;33m(\u001b[0m\u001b[0mstep_decay\u001b[0m \u001b[1;33m**\u001b[0m \u001b[0mstep\u001b[0m\u001b[1;33m)\u001b[0m\u001b[1;33m\u001b[0m\u001b[1;33m\u001b[0m\u001b[0m\n\u001b[0;32m    156\u001b[0m                 \u001b[0mpcl_next\u001b[0m \u001b[1;33m+=\u001b[0m \u001b[0ms\u001b[0m \u001b[1;33m*\u001b[0m \u001b[0macc_grads\u001b[0m\u001b[1;33m\u001b[0m\u001b[1;33m\u001b[0m\u001b[0m\n\u001b[1;32m--> 157\u001b[1;33m                 \u001b[0mtraj\u001b[0m\u001b[1;33m.\u001b[0m\u001b[0mappend\u001b[0m\u001b[1;33m(\u001b[0m\u001b[0mpcl_next\u001b[0m\u001b[1;33m.\u001b[0m\u001b[0mclone\u001b[0m\u001b[1;33m(\u001b[0m\u001b[1;33m)\u001b[0m\u001b[1;33m.\u001b[0m\u001b[0mcpu\u001b[0m\u001b[1;33m(\u001b[0m\u001b[1;33m)\u001b[0m\u001b[1;33m)\u001b[0m\u001b[1;33m\u001b[0m\u001b[1;33m\u001b[0m\u001b[0m\n\u001b[0m\u001b[0;32m    158\u001b[0m                 \u001b[1;31m# print(s)\u001b[0m\u001b[1;33m\u001b[0m\u001b[1;33m\u001b[0m\u001b[1;33m\u001b[0m\u001b[0m\n\u001b[0;32m    159\u001b[0m \u001b[1;33m\u001b[0m\u001b[0m\n",
      "\u001b[1;31mKeyboardInterrupt\u001b[0m: "
     ]
    }
   ],
   "source": [
    "results = {}\n",
    "for gt_path, noisy_path in cloud_pairs:\n",
    "    results[gt_path] = {}\n",
    "    gt = IO.get_arr_from(os.path.join(\"data\", gt_path))\n",
    "    noisy = IO.get_arr_from(os.path.join(\"data\", noisy_path))\n",
    "    for name in dir(PC_denoiser):\n",
    "        # Get the attribute\n",
    "        if name.startswith(\"denoise\"):\n",
    "            method = getattr(PC_denoiser, name)\n",
    "\n",
    "            start_time = time.time()\n",
    "            denoised = method(noisy)\n",
    "            execution_time = time.time() - start_time\n",
    "\n",
    "            loss = PC_denoiser.calculate_chamfer_distance_loss(gt, denoised)\n",
    "\n",
    "            results[gt_path][name] = {\"time\": execution_time, \"loss\": loss}\n",
    "\n",
    "            path = os.path.join(\"images\", f\"{gt_path[:-4]}_{name}.png\")\n",
    "            IO.save_visualization(cloud=denoised, save_path=path)\n",
    "results"
   ]
  },
  {
   "cell_type": "code",
   "execution_count": null,
   "metadata": {},
   "outputs": [],
   "source": []
  }
 ],
 "metadata": {
  "kernelspec": {
   "display_name": "fyp_env",
   "language": "python",
   "name": "python3"
  },
  "language_info": {
   "codemirror_mode": {
    "name": "ipython",
    "version": 3
   },
   "file_extension": ".py",
   "mimetype": "text/x-python",
   "name": "python",
   "nbconvert_exporter": "python",
   "pygments_lexer": "ipython3",
   "version": "3.7.1"
  },
  "orig_nbformat": 4
 },
 "nbformat": 4,
 "nbformat_minor": 2
}
